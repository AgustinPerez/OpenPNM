{
 "metadata": {
  "name": ""
 },
 "nbformat": 3,
 "nbformat_minor": 0,
 "worksheets": [
  {
   "cells": [
    {
     "cell_type": "code",
     "collapsed": false,
     "input": [
      "import OpenPNM\n",
      "\n",
      "pn = OpenPNM.Network.Cubic(name='cubic_1').generate(divisions=[15, 15, 15], lattice_spacing=[0.0001],add_boundaries=True)\n",
      "\n",
      "pn.__dict__"
     ],
     "language": "python",
     "metadata": {},
     "outputs": [
      {
       "output_type": "stream",
       "stream": "stderr",
       "text": [
        "03-13 15:52 Cubic        INFO     Construction of Object container complete\n"
       ]
      },
      {
       "output_type": "stream",
       "stream": "stderr",
       "text": [
        "03-13 15:52 Cubic        INFO     Construct Network\n"
       ]
      },
      {
       "output_type": "stream",
       "stream": "stderr",
       "text": [
        "03-13 15:52 Cubic        INFO     generate: Start of network topology generation\n"
       ]
      },
      {
       "output_type": "stream",
       "stream": "stderr",
       "text": [
        "03-13 15:52 Cubic        INFO     _generate_pores: Creating specified number of pores\n"
       ]
      },
      {
       "output_type": "stream",
       "stream": "stderr",
       "text": [
        "03-13 15:52 Cubic        INFO     _generate_throats: Creating specified number of throats\n"
       ]
      },
      {
       "output_type": "stream",
       "stream": "stderr",
       "text": [
        "03-13 15:52 Cubic        INFO     _add_labels: Applying labels\n"
       ]
      },
      {
       "output_type": "stream",
       "stream": "stderr",
       "text": [
        "03-13 15:52 Cubic        INFO     Creating incidence matrix, please wait\n"
       ]
      },
      {
       "output_type": "stream",
       "stream": "stderr",
       "text": [
        "03-13 15:52 Cubic        INFO     label=all for porehas been updated to a bigger size!\n"
       ]
      },
      {
       "output_type": "stream",
       "stream": "stderr",
       "text": [
        "03-13 15:52 Cubic        INFO     label=all for throathas been updated to a bigger size!\n"
       ]
      },
      {
       "output_type": "stream",
       "stream": "stderr",
       "text": [
        "03-13 15:52 Cubic        INFO     label=all for porehas been updated to a bigger size!\n"
       ]
      },
      {
       "output_type": "stream",
       "stream": "stderr",
       "text": [
        "03-13 15:52 Cubic        INFO     label=all for throathas been updated to a bigger size!\n"
       ]
      },
      {
       "output_type": "stream",
       "stream": "stderr",
       "text": [
        "03-13 15:52 Cubic        INFO     label=all for porehas been updated to a bigger size!\n"
       ]
      },
      {
       "output_type": "stream",
       "stream": "stderr",
       "text": [
        "03-13 15:52 Cubic        INFO     label=all for throathas been updated to a bigger size!\n"
       ]
      },
      {
       "output_type": "stream",
       "stream": "stderr",
       "text": [
        "03-13 15:52 Cubic        INFO     label=all for porehas been updated to a bigger size!\n"
       ]
      },
      {
       "output_type": "stream",
       "stream": "stderr",
       "text": [
        "03-13 15:52 Cubic        INFO     label=all for throathas been updated to a bigger size!\n"
       ]
      },
      {
       "output_type": "stream",
       "stream": "stderr",
       "text": [
        "03-13 15:52 Cubic        INFO     label=all for porehas been updated to a bigger size!\n"
       ]
      },
      {
       "output_type": "stream",
       "stream": "stderr",
       "text": [
        "03-13 15:52 Cubic        INFO     label=all for throathas been updated to a bigger size!\n"
       ]
      },
      {
       "output_type": "stream",
       "stream": "stderr",
       "text": [
        "03-13 15:52 Cubic        INFO     label=all for porehas been updated to a bigger size!\n"
       ]
      },
      {
       "output_type": "stream",
       "stream": "stderr",
       "text": [
        "03-13 15:52 Cubic        INFO     label=all for throathas been updated to a bigger size!\n"
       ]
      },
      {
       "metadata": {},
       "output_type": "pyout",
       "prompt_number": 10,
       "text": [
        "{'_Lc': 0.0001,\n",
        " '_Lx': 0.0015,\n",
        " '_Ly': 0.0015,\n",
        " '_Lz': 0.0015,\n",
        " '_Nx': 15,\n",
        " '_Ny': 15,\n",
        " '_Nz': 15,\n",
        " '_btype': [0, 0, 0],\n",
        " '_fluids': [],\n",
        " '_geometry': [],\n",
        " '_logger': <logging.Logger at 0x36b2b90>,\n",
        " '_physics': [],\n",
        " '_pore_data': {'coords': array([[  5.00000000e-05,   5.00000000e-05,   5.00000000e-05],\n",
        "       [  1.50000000e-04,   5.00000000e-05,   5.00000000e-05],\n",
        "       [  2.50000000e-04,   5.00000000e-05,   5.00000000e-05],\n",
        "       ..., \n",
        "       [  1.25000000e-03,   1.45000000e-03,   1.50000000e-03],\n",
        "       [  1.35000000e-03,   1.45000000e-03,   1.50000000e-03],\n",
        "       [  1.45000000e-03,   1.45000000e-03,   1.50000000e-03]])},\n",
        " '_pore_info': {'all': array([ True,  True,  True, ...,  True,  True,  True], dtype=bool),\n",
        "  'back': array([False, False, False, ..., False, False, False], dtype=bool),\n",
        "  'bottom': array([ True,  True,  True, ..., False, False, False], dtype=bool),\n",
        "  'boundary': array([False, False, False, ...,  True,  True,  True], dtype=bool),\n",
        "  'front': array([ True, False, False, ..., False, False, False], dtype=bool),\n",
        "  'internal': array([ True,  True,  True, ..., False, False, False], dtype=bool),\n",
        "  'left': array([ True,  True,  True, ..., False, False, False], dtype=bool),\n",
        "  'right': array([False, False, False, ..., False, False, False], dtype=bool),\n",
        "  'top': array([False, False, False, ...,  True,  True,  True], dtype=bool)},\n",
        " '_throat_data': {'connections': array([[   0,    1],\n",
        "       [   0,   15],\n",
        "       [   0,  225],\n",
        "       ..., \n",
        "       [3372, 4722],\n",
        "       [3373, 4723],\n",
        "       [3374, 4724]])},\n",
        " '_throat_info': {'all': array([ True,  True,  True, ...,  True,  True,  True], dtype=bool),\n",
        "  'back': array([False, False, False, ..., False, False, False], dtype=bool),\n",
        "  'bottom': array([ True,  True, False, ..., False, False, False], dtype=bool),\n",
        "  'front': array([False,  True,  True, ..., False, False, False], dtype=bool),\n",
        "  'internal': array([ True,  True,  True, ..., False, False, False], dtype=bool),\n",
        "  'left': array([ True, False,  True, ..., False, False, False], dtype=bool),\n",
        "  'right': array([False, False, False, ..., False, False, False], dtype=bool),\n",
        "  'top': array([False, False, False, ..., False, False, False], dtype=bool)},\n",
        " 'adjacency_matrix': {'coo': {}, 'csr': {}, 'lil': {}},\n",
        " 'constants': <module 'scipy.constants' from '/usr/local/lib/python2.7/dist-packages/scipy-0.13.3-py2.7-linux-x86_64.egg/scipy/constants/__init__.pyc'>,\n",
        " 'incidence_matrix': {'coo': {}, 'csr': {}, 'lil': {}},\n",
        " 'name': 'cubic_1'}"
       ]
      }
     ],
     "prompt_number": 10
    }
   ],
   "metadata": {}
  }
 ]
}